{
  "nbformat": 4,
  "nbformat_minor": 0,
  "metadata": {
    "colab": {
      "provenance": [],
      "toc_visible": true
    },
    "kernelspec": {
      "name": "python3",
      "display_name": "Python 3"
    },
    "language_info": {
      "name": "python"
    },
    "widgets": {
      "application/vnd.jupyter.widget-state+json": {
        "ecb9cd93b6574bb4884c768e2a1b5e27": {
          "model_module": "@jupyter-widgets/controls",
          "model_name": "HBoxModel",
          "model_module_version": "1.5.0",
          "state": {
            "_dom_classes": [],
            "_model_module": "@jupyter-widgets/controls",
            "_model_module_version": "1.5.0",
            "_model_name": "HBoxModel",
            "_view_count": null,
            "_view_module": "@jupyter-widgets/controls",
            "_view_module_version": "1.5.0",
            "_view_name": "HBoxView",
            "box_style": "",
            "children": [
              "IPY_MODEL_8a92b353c5c841e8a701b0f35c83b937",
              "IPY_MODEL_9fccbe7b2c7d4d7fb7c949629702a126",
              "IPY_MODEL_4f68fe92cbc64e499f2821b27d6ef234"
            ],
            "layout": "IPY_MODEL_0b8d7ec771d3436ea65047f6e3767e66"
          }
        },
        "8a92b353c5c841e8a701b0f35c83b937": {
          "model_module": "@jupyter-widgets/controls",
          "model_name": "HTMLModel",
          "model_module_version": "1.5.0",
          "state": {
            "_dom_classes": [],
            "_model_module": "@jupyter-widgets/controls",
            "_model_module_version": "1.5.0",
            "_model_name": "HTMLModel",
            "_view_count": null,
            "_view_module": "@jupyter-widgets/controls",
            "_view_module_version": "1.5.0",
            "_view_name": "HTMLView",
            "description": "",
            "description_tooltip": null,
            "layout": "IPY_MODEL_fbdfbca2f7b34cbc96d7dc81b0f66d9f",
            "placeholder": "​",
            "style": "IPY_MODEL_141cfa61ec1c47c0a8ce1a6769779b02",
            "value": "Fetching 5 files: 100%"
          }
        },
        "9fccbe7b2c7d4d7fb7c949629702a126": {
          "model_module": "@jupyter-widgets/controls",
          "model_name": "FloatProgressModel",
          "model_module_version": "1.5.0",
          "state": {
            "_dom_classes": [],
            "_model_module": "@jupyter-widgets/controls",
            "_model_module_version": "1.5.0",
            "_model_name": "FloatProgressModel",
            "_view_count": null,
            "_view_module": "@jupyter-widgets/controls",
            "_view_module_version": "1.5.0",
            "_view_name": "ProgressView",
            "bar_style": "success",
            "description": "",
            "description_tooltip": null,
            "layout": "IPY_MODEL_25cf0261adcf424e8ee77bb7fdd23ff6",
            "max": 5,
            "min": 0,
            "orientation": "horizontal",
            "style": "IPY_MODEL_a2f0c2e4c0ef46fb93d61e8b0db21f2c",
            "value": 5
          }
        },
        "4f68fe92cbc64e499f2821b27d6ef234": {
          "model_module": "@jupyter-widgets/controls",
          "model_name": "HTMLModel",
          "model_module_version": "1.5.0",
          "state": {
            "_dom_classes": [],
            "_model_module": "@jupyter-widgets/controls",
            "_model_module_version": "1.5.0",
            "_model_name": "HTMLModel",
            "_view_count": null,
            "_view_module": "@jupyter-widgets/controls",
            "_view_module_version": "1.5.0",
            "_view_name": "HTMLView",
            "description": "",
            "description_tooltip": null,
            "layout": "IPY_MODEL_82f60522802e4d128a45cdecc821cfad",
            "placeholder": "​",
            "style": "IPY_MODEL_1386ce9b188d4abfad0ddb2bd8c73bba",
            "value": " 5/5 [00:01&lt;00:00,  1.08it/s]"
          }
        },
        "0b8d7ec771d3436ea65047f6e3767e66": {
          "model_module": "@jupyter-widgets/base",
          "model_name": "LayoutModel",
          "model_module_version": "1.2.0",
          "state": {
            "_model_module": "@jupyter-widgets/base",
            "_model_module_version": "1.2.0",
            "_model_name": "LayoutModel",
            "_view_count": null,
            "_view_module": "@jupyter-widgets/base",
            "_view_module_version": "1.2.0",
            "_view_name": "LayoutView",
            "align_content": null,
            "align_items": null,
            "align_self": null,
            "border": null,
            "bottom": null,
            "display": null,
            "flex": null,
            "flex_flow": null,
            "grid_area": null,
            "grid_auto_columns": null,
            "grid_auto_flow": null,
            "grid_auto_rows": null,
            "grid_column": null,
            "grid_gap": null,
            "grid_row": null,
            "grid_template_areas": null,
            "grid_template_columns": null,
            "grid_template_rows": null,
            "height": null,
            "justify_content": null,
            "justify_items": null,
            "left": null,
            "margin": null,
            "max_height": null,
            "max_width": null,
            "min_height": null,
            "min_width": null,
            "object_fit": null,
            "object_position": null,
            "order": null,
            "overflow": null,
            "overflow_x": null,
            "overflow_y": null,
            "padding": null,
            "right": null,
            "top": null,
            "visibility": null,
            "width": null
          }
        },
        "fbdfbca2f7b34cbc96d7dc81b0f66d9f": {
          "model_module": "@jupyter-widgets/base",
          "model_name": "LayoutModel",
          "model_module_version": "1.2.0",
          "state": {
            "_model_module": "@jupyter-widgets/base",
            "_model_module_version": "1.2.0",
            "_model_name": "LayoutModel",
            "_view_count": null,
            "_view_module": "@jupyter-widgets/base",
            "_view_module_version": "1.2.0",
            "_view_name": "LayoutView",
            "align_content": null,
            "align_items": null,
            "align_self": null,
            "border": null,
            "bottom": null,
            "display": null,
            "flex": null,
            "flex_flow": null,
            "grid_area": null,
            "grid_auto_columns": null,
            "grid_auto_flow": null,
            "grid_auto_rows": null,
            "grid_column": null,
            "grid_gap": null,
            "grid_row": null,
            "grid_template_areas": null,
            "grid_template_columns": null,
            "grid_template_rows": null,
            "height": null,
            "justify_content": null,
            "justify_items": null,
            "left": null,
            "margin": null,
            "max_height": null,
            "max_width": null,
            "min_height": null,
            "min_width": null,
            "object_fit": null,
            "object_position": null,
            "order": null,
            "overflow": null,
            "overflow_x": null,
            "overflow_y": null,
            "padding": null,
            "right": null,
            "top": null,
            "visibility": null,
            "width": null
          }
        },
        "141cfa61ec1c47c0a8ce1a6769779b02": {
          "model_module": "@jupyter-widgets/controls",
          "model_name": "DescriptionStyleModel",
          "model_module_version": "1.5.0",
          "state": {
            "_model_module": "@jupyter-widgets/controls",
            "_model_module_version": "1.5.0",
            "_model_name": "DescriptionStyleModel",
            "_view_count": null,
            "_view_module": "@jupyter-widgets/base",
            "_view_module_version": "1.2.0",
            "_view_name": "StyleView",
            "description_width": ""
          }
        },
        "25cf0261adcf424e8ee77bb7fdd23ff6": {
          "model_module": "@jupyter-widgets/base",
          "model_name": "LayoutModel",
          "model_module_version": "1.2.0",
          "state": {
            "_model_module": "@jupyter-widgets/base",
            "_model_module_version": "1.2.0",
            "_model_name": "LayoutModel",
            "_view_count": null,
            "_view_module": "@jupyter-widgets/base",
            "_view_module_version": "1.2.0",
            "_view_name": "LayoutView",
            "align_content": null,
            "align_items": null,
            "align_self": null,
            "border": null,
            "bottom": null,
            "display": null,
            "flex": null,
            "flex_flow": null,
            "grid_area": null,
            "grid_auto_columns": null,
            "grid_auto_flow": null,
            "grid_auto_rows": null,
            "grid_column": null,
            "grid_gap": null,
            "grid_row": null,
            "grid_template_areas": null,
            "grid_template_columns": null,
            "grid_template_rows": null,
            "height": null,
            "justify_content": null,
            "justify_items": null,
            "left": null,
            "margin": null,
            "max_height": null,
            "max_width": null,
            "min_height": null,
            "min_width": null,
            "object_fit": null,
            "object_position": null,
            "order": null,
            "overflow": null,
            "overflow_x": null,
            "overflow_y": null,
            "padding": null,
            "right": null,
            "top": null,
            "visibility": null,
            "width": null
          }
        },
        "a2f0c2e4c0ef46fb93d61e8b0db21f2c": {
          "model_module": "@jupyter-widgets/controls",
          "model_name": "ProgressStyleModel",
          "model_module_version": "1.5.0",
          "state": {
            "_model_module": "@jupyter-widgets/controls",
            "_model_module_version": "1.5.0",
            "_model_name": "ProgressStyleModel",
            "_view_count": null,
            "_view_module": "@jupyter-widgets/base",
            "_view_module_version": "1.2.0",
            "_view_name": "StyleView",
            "bar_color": null,
            "description_width": ""
          }
        },
        "82f60522802e4d128a45cdecc821cfad": {
          "model_module": "@jupyter-widgets/base",
          "model_name": "LayoutModel",
          "model_module_version": "1.2.0",
          "state": {
            "_model_module": "@jupyter-widgets/base",
            "_model_module_version": "1.2.0",
            "_model_name": "LayoutModel",
            "_view_count": null,
            "_view_module": "@jupyter-widgets/base",
            "_view_module_version": "1.2.0",
            "_view_name": "LayoutView",
            "align_content": null,
            "align_items": null,
            "align_self": null,
            "border": null,
            "bottom": null,
            "display": null,
            "flex": null,
            "flex_flow": null,
            "grid_area": null,
            "grid_auto_columns": null,
            "grid_auto_flow": null,
            "grid_auto_rows": null,
            "grid_column": null,
            "grid_gap": null,
            "grid_row": null,
            "grid_template_areas": null,
            "grid_template_columns": null,
            "grid_template_rows": null,
            "height": null,
            "justify_content": null,
            "justify_items": null,
            "left": null,
            "margin": null,
            "max_height": null,
            "max_width": null,
            "min_height": null,
            "min_width": null,
            "object_fit": null,
            "object_position": null,
            "order": null,
            "overflow": null,
            "overflow_x": null,
            "overflow_y": null,
            "padding": null,
            "right": null,
            "top": null,
            "visibility": null,
            "width": null
          }
        },
        "1386ce9b188d4abfad0ddb2bd8c73bba": {
          "model_module": "@jupyter-widgets/controls",
          "model_name": "DescriptionStyleModel",
          "model_module_version": "1.5.0",
          "state": {
            "_model_module": "@jupyter-widgets/controls",
            "_model_module_version": "1.5.0",
            "_model_name": "DescriptionStyleModel",
            "_view_count": null,
            "_view_module": "@jupyter-widgets/base",
            "_view_module_version": "1.2.0",
            "_view_name": "StyleView",
            "description_width": ""
          }
        },
        "947866cc99b04d6aa301fd4068264818": {
          "model_module": "@jupyter-widgets/controls",
          "model_name": "HBoxModel",
          "model_module_version": "1.5.0",
          "state": {
            "_dom_classes": [],
            "_model_module": "@jupyter-widgets/controls",
            "_model_module_version": "1.5.0",
            "_model_name": "HBoxModel",
            "_view_count": null,
            "_view_module": "@jupyter-widgets/controls",
            "_view_module_version": "1.5.0",
            "_view_name": "HBoxView",
            "box_style": "",
            "children": [
              "IPY_MODEL_f17ab4b9a9f94dfeafaa78b36a00bf2e",
              "IPY_MODEL_f7f6b60b13bd45f1b065dfa74be7b918",
              "IPY_MODEL_a4e6331536d246f09eaec25cafde07e1"
            ],
            "layout": "IPY_MODEL_0e3152575dac45cbb87128387426f9b4"
          }
        },
        "f17ab4b9a9f94dfeafaa78b36a00bf2e": {
          "model_module": "@jupyter-widgets/controls",
          "model_name": "HTMLModel",
          "model_module_version": "1.5.0",
          "state": {
            "_dom_classes": [],
            "_model_module": "@jupyter-widgets/controls",
            "_model_module_version": "1.5.0",
            "_model_name": "HTMLModel",
            "_view_count": null,
            "_view_module": "@jupyter-widgets/controls",
            "_view_module_version": "1.5.0",
            "_view_name": "HTMLView",
            "description": "",
            "description_tooltip": null,
            "layout": "IPY_MODEL_a7ca017f70534fa39e02196f6a3aee80",
            "placeholder": "​",
            "style": "IPY_MODEL_b993ae11008f469f8a1574e1b89da4c8",
            "value": "special_tokens_map.json: 100%"
          }
        },
        "f7f6b60b13bd45f1b065dfa74be7b918": {
          "model_module": "@jupyter-widgets/controls",
          "model_name": "FloatProgressModel",
          "model_module_version": "1.5.0",
          "state": {
            "_dom_classes": [],
            "_model_module": "@jupyter-widgets/controls",
            "_model_module_version": "1.5.0",
            "_model_name": "FloatProgressModel",
            "_view_count": null,
            "_view_module": "@jupyter-widgets/controls",
            "_view_module_version": "1.5.0",
            "_view_name": "ProgressView",
            "bar_style": "success",
            "description": "",
            "description_tooltip": null,
            "layout": "IPY_MODEL_bc3c48227b194ce29a62e1f51f58263b",
            "max": 695,
            "min": 0,
            "orientation": "horizontal",
            "style": "IPY_MODEL_ae0033a4f4234f2fa52efef8673190ba",
            "value": 695
          }
        },
        "a4e6331536d246f09eaec25cafde07e1": {
          "model_module": "@jupyter-widgets/controls",
          "model_name": "HTMLModel",
          "model_module_version": "1.5.0",
          "state": {
            "_dom_classes": [],
            "_model_module": "@jupyter-widgets/controls",
            "_model_module_version": "1.5.0",
            "_model_name": "HTMLModel",
            "_view_count": null,
            "_view_module": "@jupyter-widgets/controls",
            "_view_module_version": "1.5.0",
            "_view_name": "HTMLView",
            "description": "",
            "description_tooltip": null,
            "layout": "IPY_MODEL_4acecc05aec24bbf8252c78ec4761dfa",
            "placeholder": "​",
            "style": "IPY_MODEL_5b81145b43b94c51a623bf621dffba2c",
            "value": " 695/695 [00:00&lt;00:00, 9.39kB/s]"
          }
        },
        "0e3152575dac45cbb87128387426f9b4": {
          "model_module": "@jupyter-widgets/base",
          "model_name": "LayoutModel",
          "model_module_version": "1.2.0",
          "state": {
            "_model_module": "@jupyter-widgets/base",
            "_model_module_version": "1.2.0",
            "_model_name": "LayoutModel",
            "_view_count": null,
            "_view_module": "@jupyter-widgets/base",
            "_view_module_version": "1.2.0",
            "_view_name": "LayoutView",
            "align_content": null,
            "align_items": null,
            "align_self": null,
            "border": null,
            "bottom": null,
            "display": null,
            "flex": null,
            "flex_flow": null,
            "grid_area": null,
            "grid_auto_columns": null,
            "grid_auto_flow": null,
            "grid_auto_rows": null,
            "grid_column": null,
            "grid_gap": null,
            "grid_row": null,
            "grid_template_areas": null,
            "grid_template_columns": null,
            "grid_template_rows": null,
            "height": null,
            "justify_content": null,
            "justify_items": null,
            "left": null,
            "margin": null,
            "max_height": null,
            "max_width": null,
            "min_height": null,
            "min_width": null,
            "object_fit": null,
            "object_position": null,
            "order": null,
            "overflow": null,
            "overflow_x": null,
            "overflow_y": null,
            "padding": null,
            "right": null,
            "top": null,
            "visibility": null,
            "width": null
          }
        },
        "a7ca017f70534fa39e02196f6a3aee80": {
          "model_module": "@jupyter-widgets/base",
          "model_name": "LayoutModel",
          "model_module_version": "1.2.0",
          "state": {
            "_model_module": "@jupyter-widgets/base",
            "_model_module_version": "1.2.0",
            "_model_name": "LayoutModel",
            "_view_count": null,
            "_view_module": "@jupyter-widgets/base",
            "_view_module_version": "1.2.0",
            "_view_name": "LayoutView",
            "align_content": null,
            "align_items": null,
            "align_self": null,
            "border": null,
            "bottom": null,
            "display": null,
            "flex": null,
            "flex_flow": null,
            "grid_area": null,
            "grid_auto_columns": null,
            "grid_auto_flow": null,
            "grid_auto_rows": null,
            "grid_column": null,
            "grid_gap": null,
            "grid_row": null,
            "grid_template_areas": null,
            "grid_template_columns": null,
            "grid_template_rows": null,
            "height": null,
            "justify_content": null,
            "justify_items": null,
            "left": null,
            "margin": null,
            "max_height": null,
            "max_width": null,
            "min_height": null,
            "min_width": null,
            "object_fit": null,
            "object_position": null,
            "order": null,
            "overflow": null,
            "overflow_x": null,
            "overflow_y": null,
            "padding": null,
            "right": null,
            "top": null,
            "visibility": null,
            "width": null
          }
        },
        "b993ae11008f469f8a1574e1b89da4c8": {
          "model_module": "@jupyter-widgets/controls",
          "model_name": "DescriptionStyleModel",
          "model_module_version": "1.5.0",
          "state": {
            "_model_module": "@jupyter-widgets/controls",
            "_model_module_version": "1.5.0",
            "_model_name": "DescriptionStyleModel",
            "_view_count": null,
            "_view_module": "@jupyter-widgets/base",
            "_view_module_version": "1.2.0",
            "_view_name": "StyleView",
            "description_width": ""
          }
        },
        "bc3c48227b194ce29a62e1f51f58263b": {
          "model_module": "@jupyter-widgets/base",
          "model_name": "LayoutModel",
          "model_module_version": "1.2.0",
          "state": {
            "_model_module": "@jupyter-widgets/base",
            "_model_module_version": "1.2.0",
            "_model_name": "LayoutModel",
            "_view_count": null,
            "_view_module": "@jupyter-widgets/base",
            "_view_module_version": "1.2.0",
            "_view_name": "LayoutView",
            "align_content": null,
            "align_items": null,
            "align_self": null,
            "border": null,
            "bottom": null,
            "display": null,
            "flex": null,
            "flex_flow": null,
            "grid_area": null,
            "grid_auto_columns": null,
            "grid_auto_flow": null,
            "grid_auto_rows": null,
            "grid_column": null,
            "grid_gap": null,
            "grid_row": null,
            "grid_template_areas": null,
            "grid_template_columns": null,
            "grid_template_rows": null,
            "height": null,
            "justify_content": null,
            "justify_items": null,
            "left": null,
            "margin": null,
            "max_height": null,
            "max_width": null,
            "min_height": null,
            "min_width": null,
            "object_fit": null,
            "object_position": null,
            "order": null,
            "overflow": null,
            "overflow_x": null,
            "overflow_y": null,
            "padding": null,
            "right": null,
            "top": null,
            "visibility": null,
            "width": null
          }
        },
        "ae0033a4f4234f2fa52efef8673190ba": {
          "model_module": "@jupyter-widgets/controls",
          "model_name": "ProgressStyleModel",
          "model_module_version": "1.5.0",
          "state": {
            "_model_module": "@jupyter-widgets/controls",
            "_model_module_version": "1.5.0",
            "_model_name": "ProgressStyleModel",
            "_view_count": null,
            "_view_module": "@jupyter-widgets/base",
            "_view_module_version": "1.2.0",
            "_view_name": "StyleView",
            "bar_color": null,
            "description_width": ""
          }
        },
        "4acecc05aec24bbf8252c78ec4761dfa": {
          "model_module": "@jupyter-widgets/base",
          "model_name": "LayoutModel",
          "model_module_version": "1.2.0",
          "state": {
            "_model_module": "@jupyter-widgets/base",
            "_model_module_version": "1.2.0",
            "_model_name": "LayoutModel",
            "_view_count": null,
            "_view_module": "@jupyter-widgets/base",
            "_view_module_version": "1.2.0",
            "_view_name": "LayoutView",
            "align_content": null,
            "align_items": null,
            "align_self": null,
            "border": null,
            "bottom": null,
            "display": null,
            "flex": null,
            "flex_flow": null,
            "grid_area": null,
            "grid_auto_columns": null,
            "grid_auto_flow": null,
            "grid_auto_rows": null,
            "grid_column": null,
            "grid_gap": null,
            "grid_row": null,
            "grid_template_areas": null,
            "grid_template_columns": null,
            "grid_template_rows": null,
            "height": null,
            "justify_content": null,
            "justify_items": null,
            "left": null,
            "margin": null,
            "max_height": null,
            "max_width": null,
            "min_height": null,
            "min_width": null,
            "object_fit": null,
            "object_position": null,
            "order": null,
            "overflow": null,
            "overflow_x": null,
            "overflow_y": null,
            "padding": null,
            "right": null,
            "top": null,
            "visibility": null,
            "width": null
          }
        },
        "5b81145b43b94c51a623bf621dffba2c": {
          "model_module": "@jupyter-widgets/controls",
          "model_name": "DescriptionStyleModel",
          "model_module_version": "1.5.0",
          "state": {
            "_model_module": "@jupyter-widgets/controls",
            "_model_module_version": "1.5.0",
            "_model_name": "DescriptionStyleModel",
            "_view_count": null,
            "_view_module": "@jupyter-widgets/base",
            "_view_module_version": "1.2.0",
            "_view_name": "StyleView",
            "description_width": ""
          }
        },
        "fd2c9e04122f4c67ac61a0ec18ec201f": {
          "model_module": "@jupyter-widgets/controls",
          "model_name": "HBoxModel",
          "model_module_version": "1.5.0",
          "state": {
            "_dom_classes": [],
            "_model_module": "@jupyter-widgets/controls",
            "_model_module_version": "1.5.0",
            "_model_name": "HBoxModel",
            "_view_count": null,
            "_view_module": "@jupyter-widgets/controls",
            "_view_module_version": "1.5.0",
            "_view_name": "HBoxView",
            "box_style": "",
            "children": [
              "IPY_MODEL_6cb02ba95a374699a4d674cc4d3a124c",
              "IPY_MODEL_c652a984f4fc4e7690941de0652c8bdc",
              "IPY_MODEL_663a301491ae40b39b77e725431c0638"
            ],
            "layout": "IPY_MODEL_421a0e8ec3604a8fb0610f31cb0419a5"
          }
        },
        "6cb02ba95a374699a4d674cc4d3a124c": {
          "model_module": "@jupyter-widgets/controls",
          "model_name": "HTMLModel",
          "model_module_version": "1.5.0",
          "state": {
            "_dom_classes": [],
            "_model_module": "@jupyter-widgets/controls",
            "_model_module_version": "1.5.0",
            "_model_name": "HTMLModel",
            "_view_count": null,
            "_view_module": "@jupyter-widgets/controls",
            "_view_module_version": "1.5.0",
            "_view_name": "HTMLView",
            "description": "",
            "description_tooltip": null,
            "layout": "IPY_MODEL_271a1f2eeb8f485990413a2b74f82bd5",
            "placeholder": "​",
            "style": "IPY_MODEL_99340c94272249fd85da8a82d6ca7a1b",
            "value": "tokenizer_config.json: 100%"
          }
        },
        "c652a984f4fc4e7690941de0652c8bdc": {
          "model_module": "@jupyter-widgets/controls",
          "model_name": "FloatProgressModel",
          "model_module_version": "1.5.0",
          "state": {
            "_dom_classes": [],
            "_model_module": "@jupyter-widgets/controls",
            "_model_module_version": "1.5.0",
            "_model_name": "FloatProgressModel",
            "_view_count": null,
            "_view_module": "@jupyter-widgets/controls",
            "_view_module_version": "1.5.0",
            "_view_name": "ProgressView",
            "bar_style": "success",
            "description": "",
            "description_tooltip": null,
            "layout": "IPY_MODEL_51f0eebcb8714444af63b5b4d210d70e",
            "max": 1433,
            "min": 0,
            "orientation": "horizontal",
            "style": "IPY_MODEL_094d0b8b9abc4b4aabe4408bf4ccc41d",
            "value": 1433
          }
        },
        "663a301491ae40b39b77e725431c0638": {
          "model_module": "@jupyter-widgets/controls",
          "model_name": "HTMLModel",
          "model_module_version": "1.5.0",
          "state": {
            "_dom_classes": [],
            "_model_module": "@jupyter-widgets/controls",
            "_model_module_version": "1.5.0",
            "_model_name": "HTMLModel",
            "_view_count": null,
            "_view_module": "@jupyter-widgets/controls",
            "_view_module_version": "1.5.0",
            "_view_name": "HTMLView",
            "description": "",
            "description_tooltip": null,
            "layout": "IPY_MODEL_fc266829fc8247c3bc559dc8782ebe2b",
            "placeholder": "​",
            "style": "IPY_MODEL_06d466bac51a41cf8cf7eabd7dc76053",
            "value": " 1.43k/1.43k [00:00&lt;00:00, 21.9kB/s]"
          }
        },
        "421a0e8ec3604a8fb0610f31cb0419a5": {
          "model_module": "@jupyter-widgets/base",
          "model_name": "LayoutModel",
          "model_module_version": "1.2.0",
          "state": {
            "_model_module": "@jupyter-widgets/base",
            "_model_module_version": "1.2.0",
            "_model_name": "LayoutModel",
            "_view_count": null,
            "_view_module": "@jupyter-widgets/base",
            "_view_module_version": "1.2.0",
            "_view_name": "LayoutView",
            "align_content": null,
            "align_items": null,
            "align_self": null,
            "border": null,
            "bottom": null,
            "display": null,
            "flex": null,
            "flex_flow": null,
            "grid_area": null,
            "grid_auto_columns": null,
            "grid_auto_flow": null,
            "grid_auto_rows": null,
            "grid_column": null,
            "grid_gap": null,
            "grid_row": null,
            "grid_template_areas": null,
            "grid_template_columns": null,
            "grid_template_rows": null,
            "height": null,
            "justify_content": null,
            "justify_items": null,
            "left": null,
            "margin": null,
            "max_height": null,
            "max_width": null,
            "min_height": null,
            "min_width": null,
            "object_fit": null,
            "object_position": null,
            "order": null,
            "overflow": null,
            "overflow_x": null,
            "overflow_y": null,
            "padding": null,
            "right": null,
            "top": null,
            "visibility": null,
            "width": null
          }
        },
        "271a1f2eeb8f485990413a2b74f82bd5": {
          "model_module": "@jupyter-widgets/base",
          "model_name": "LayoutModel",
          "model_module_version": "1.2.0",
          "state": {
            "_model_module": "@jupyter-widgets/base",
            "_model_module_version": "1.2.0",
            "_model_name": "LayoutModel",
            "_view_count": null,
            "_view_module": "@jupyter-widgets/base",
            "_view_module_version": "1.2.0",
            "_view_name": "LayoutView",
            "align_content": null,
            "align_items": null,
            "align_self": null,
            "border": null,
            "bottom": null,
            "display": null,
            "flex": null,
            "flex_flow": null,
            "grid_area": null,
            "grid_auto_columns": null,
            "grid_auto_flow": null,
            "grid_auto_rows": null,
            "grid_column": null,
            "grid_gap": null,
            "grid_row": null,
            "grid_template_areas": null,
            "grid_template_columns": null,
            "grid_template_rows": null,
            "height": null,
            "justify_content": null,
            "justify_items": null,
            "left": null,
            "margin": null,
            "max_height": null,
            "max_width": null,
            "min_height": null,
            "min_width": null,
            "object_fit": null,
            "object_position": null,
            "order": null,
            "overflow": null,
            "overflow_x": null,
            "overflow_y": null,
            "padding": null,
            "right": null,
            "top": null,
            "visibility": null,
            "width": null
          }
        },
        "99340c94272249fd85da8a82d6ca7a1b": {
          "model_module": "@jupyter-widgets/controls",
          "model_name": "DescriptionStyleModel",
          "model_module_version": "1.5.0",
          "state": {
            "_model_module": "@jupyter-widgets/controls",
            "_model_module_version": "1.5.0",
            "_model_name": "DescriptionStyleModel",
            "_view_count": null,
            "_view_module": "@jupyter-widgets/base",
            "_view_module_version": "1.2.0",
            "_view_name": "StyleView",
            "description_width": ""
          }
        },
        "51f0eebcb8714444af63b5b4d210d70e": {
          "model_module": "@jupyter-widgets/base",
          "model_name": "LayoutModel",
          "model_module_version": "1.2.0",
          "state": {
            "_model_module": "@jupyter-widgets/base",
            "_model_module_version": "1.2.0",
            "_model_name": "LayoutModel",
            "_view_count": null,
            "_view_module": "@jupyter-widgets/base",
            "_view_module_version": "1.2.0",
            "_view_name": "LayoutView",
            "align_content": null,
            "align_items": null,
            "align_self": null,
            "border": null,
            "bottom": null,
            "display": null,
            "flex": null,
            "flex_flow": null,
            "grid_area": null,
            "grid_auto_columns": null,
            "grid_auto_flow": null,
            "grid_auto_rows": null,
            "grid_column": null,
            "grid_gap": null,
            "grid_row": null,
            "grid_template_areas": null,
            "grid_template_columns": null,
            "grid_template_rows": null,
            "height": null,
            "justify_content": null,
            "justify_items": null,
            "left": null,
            "margin": null,
            "max_height": null,
            "max_width": null,
            "min_height": null,
            "min_width": null,
            "object_fit": null,
            "object_position": null,
            "order": null,
            "overflow": null,
            "overflow_x": null,
            "overflow_y": null,
            "padding": null,
            "right": null,
            "top": null,
            "visibility": null,
            "width": null
          }
        },
        "094d0b8b9abc4b4aabe4408bf4ccc41d": {
          "model_module": "@jupyter-widgets/controls",
          "model_name": "ProgressStyleModel",
          "model_module_version": "1.5.0",
          "state": {
            "_model_module": "@jupyter-widgets/controls",
            "_model_module_version": "1.5.0",
            "_model_name": "ProgressStyleModel",
            "_view_count": null,
            "_view_module": "@jupyter-widgets/base",
            "_view_module_version": "1.2.0",
            "_view_name": "StyleView",
            "bar_color": null,
            "description_width": ""
          }
        },
        "fc266829fc8247c3bc559dc8782ebe2b": {
          "model_module": "@jupyter-widgets/base",
          "model_name": "LayoutModel",
          "model_module_version": "1.2.0",
          "state": {
            "_model_module": "@jupyter-widgets/base",
            "_model_module_version": "1.2.0",
            "_model_name": "LayoutModel",
            "_view_count": null,
            "_view_module": "@jupyter-widgets/base",
            "_view_module_version": "1.2.0",
            "_view_name": "LayoutView",
            "align_content": null,
            "align_items": null,
            "align_self": null,
            "border": null,
            "bottom": null,
            "display": null,
            "flex": null,
            "flex_flow": null,
            "grid_area": null,
            "grid_auto_columns": null,
            "grid_auto_flow": null,
            "grid_auto_rows": null,
            "grid_column": null,
            "grid_gap": null,
            "grid_row": null,
            "grid_template_areas": null,
            "grid_template_columns": null,
            "grid_template_rows": null,
            "height": null,
            "justify_content": null,
            "justify_items": null,
            "left": null,
            "margin": null,
            "max_height": null,
            "max_width": null,
            "min_height": null,
            "min_width": null,
            "object_fit": null,
            "object_position": null,
            "order": null,
            "overflow": null,
            "overflow_x": null,
            "overflow_y": null,
            "padding": null,
            "right": null,
            "top": null,
            "visibility": null,
            "width": null
          }
        },
        "06d466bac51a41cf8cf7eabd7dc76053": {
          "model_module": "@jupyter-widgets/controls",
          "model_name": "DescriptionStyleModel",
          "model_module_version": "1.5.0",
          "state": {
            "_model_module": "@jupyter-widgets/controls",
            "_model_module_version": "1.5.0",
            "_model_name": "DescriptionStyleModel",
            "_view_count": null,
            "_view_module": "@jupyter-widgets/base",
            "_view_module_version": "1.2.0",
            "_view_name": "StyleView",
            "description_width": ""
          }
        },
        "3859acfd851b432690a73eba165a56dc": {
          "model_module": "@jupyter-widgets/controls",
          "model_name": "HBoxModel",
          "model_module_version": "1.5.0",
          "state": {
            "_dom_classes": [],
            "_model_module": "@jupyter-widgets/controls",
            "_model_module_version": "1.5.0",
            "_model_name": "HBoxModel",
            "_view_count": null,
            "_view_module": "@jupyter-widgets/controls",
            "_view_module_version": "1.5.0",
            "_view_name": "HBoxView",
            "box_style": "",
            "children": [
              "IPY_MODEL_9f5a85021aaf484494fca0fafb82aca2",
              "IPY_MODEL_70fb1af4a75347bea56b507861f441f3",
              "IPY_MODEL_4c781d37edd646948af0b1799e131dbd"
            ],
            "layout": "IPY_MODEL_b1e667617b104a08b2aff13e681e98d0"
          }
        },
        "9f5a85021aaf484494fca0fafb82aca2": {
          "model_module": "@jupyter-widgets/controls",
          "model_name": "HTMLModel",
          "model_module_version": "1.5.0",
          "state": {
            "_dom_classes": [],
            "_model_module": "@jupyter-widgets/controls",
            "_model_module_version": "1.5.0",
            "_model_name": "HTMLModel",
            "_view_count": null,
            "_view_module": "@jupyter-widgets/controls",
            "_view_module_version": "1.5.0",
            "_view_name": "HTMLView",
            "description": "",
            "description_tooltip": null,
            "layout": "IPY_MODEL_aaf27ab7926247e885b13c948cc46298",
            "placeholder": "​",
            "style": "IPY_MODEL_4db072a0cde64645b3ab3add541795fa",
            "value": "tokenizer.json: 100%"
          }
        },
        "70fb1af4a75347bea56b507861f441f3": {
          "model_module": "@jupyter-widgets/controls",
          "model_name": "FloatProgressModel",
          "model_module_version": "1.5.0",
          "state": {
            "_dom_classes": [],
            "_model_module": "@jupyter-widgets/controls",
            "_model_module_version": "1.5.0",
            "_model_name": "FloatProgressModel",
            "_view_count": null,
            "_view_module": "@jupyter-widgets/controls",
            "_view_module_version": "1.5.0",
            "_view_name": "ProgressView",
            "bar_style": "success",
            "description": "",
            "description_tooltip": null,
            "layout": "IPY_MODEL_94f84c6d96db4f8caf167b126723fd7e",
            "max": 711661,
            "min": 0,
            "orientation": "horizontal",
            "style": "IPY_MODEL_2f1d13a577054167b5f9bec56b81735e",
            "value": 711661
          }
        },
        "4c781d37edd646948af0b1799e131dbd": {
          "model_module": "@jupyter-widgets/controls",
          "model_name": "HTMLModel",
          "model_module_version": "1.5.0",
          "state": {
            "_dom_classes": [],
            "_model_module": "@jupyter-widgets/controls",
            "_model_module_version": "1.5.0",
            "_model_name": "HTMLModel",
            "_view_count": null,
            "_view_module": "@jupyter-widgets/controls",
            "_view_module_version": "1.5.0",
            "_view_name": "HTMLView",
            "description": "",
            "description_tooltip": null,
            "layout": "IPY_MODEL_2262dc2408b24242b3845a7dc9e8e2f8",
            "placeholder": "​",
            "style": "IPY_MODEL_8adb62e7501246bba8fe6764ded19c69",
            "value": " 712k/712k [00:00&lt;00:00, 3.35MB/s]"
          }
        },
        "b1e667617b104a08b2aff13e681e98d0": {
          "model_module": "@jupyter-widgets/base",
          "model_name": "LayoutModel",
          "model_module_version": "1.2.0",
          "state": {
            "_model_module": "@jupyter-widgets/base",
            "_model_module_version": "1.2.0",
            "_model_name": "LayoutModel",
            "_view_count": null,
            "_view_module": "@jupyter-widgets/base",
            "_view_module_version": "1.2.0",
            "_view_name": "LayoutView",
            "align_content": null,
            "align_items": null,
            "align_self": null,
            "border": null,
            "bottom": null,
            "display": null,
            "flex": null,
            "flex_flow": null,
            "grid_area": null,
            "grid_auto_columns": null,
            "grid_auto_flow": null,
            "grid_auto_rows": null,
            "grid_column": null,
            "grid_gap": null,
            "grid_row": null,
            "grid_template_areas": null,
            "grid_template_columns": null,
            "grid_template_rows": null,
            "height": null,
            "justify_content": null,
            "justify_items": null,
            "left": null,
            "margin": null,
            "max_height": null,
            "max_width": null,
            "min_height": null,
            "min_width": null,
            "object_fit": null,
            "object_position": null,
            "order": null,
            "overflow": null,
            "overflow_x": null,
            "overflow_y": null,
            "padding": null,
            "right": null,
            "top": null,
            "visibility": null,
            "width": null
          }
        },
        "aaf27ab7926247e885b13c948cc46298": {
          "model_module": "@jupyter-widgets/base",
          "model_name": "LayoutModel",
          "model_module_version": "1.2.0",
          "state": {
            "_model_module": "@jupyter-widgets/base",
            "_model_module_version": "1.2.0",
            "_model_name": "LayoutModel",
            "_view_count": null,
            "_view_module": "@jupyter-widgets/base",
            "_view_module_version": "1.2.0",
            "_view_name": "LayoutView",
            "align_content": null,
            "align_items": null,
            "align_self": null,
            "border": null,
            "bottom": null,
            "display": null,
            "flex": null,
            "flex_flow": null,
            "grid_area": null,
            "grid_auto_columns": null,
            "grid_auto_flow": null,
            "grid_auto_rows": null,
            "grid_column": null,
            "grid_gap": null,
            "grid_row": null,
            "grid_template_areas": null,
            "grid_template_columns": null,
            "grid_template_rows": null,
            "height": null,
            "justify_content": null,
            "justify_items": null,
            "left": null,
            "margin": null,
            "max_height": null,
            "max_width": null,
            "min_height": null,
            "min_width": null,
            "object_fit": null,
            "object_position": null,
            "order": null,
            "overflow": null,
            "overflow_x": null,
            "overflow_y": null,
            "padding": null,
            "right": null,
            "top": null,
            "visibility": null,
            "width": null
          }
        },
        "4db072a0cde64645b3ab3add541795fa": {
          "model_module": "@jupyter-widgets/controls",
          "model_name": "DescriptionStyleModel",
          "model_module_version": "1.5.0",
          "state": {
            "_model_module": "@jupyter-widgets/controls",
            "_model_module_version": "1.5.0",
            "_model_name": "DescriptionStyleModel",
            "_view_count": null,
            "_view_module": "@jupyter-widgets/base",
            "_view_module_version": "1.2.0",
            "_view_name": "StyleView",
            "description_width": ""
          }
        },
        "94f84c6d96db4f8caf167b126723fd7e": {
          "model_module": "@jupyter-widgets/base",
          "model_name": "LayoutModel",
          "model_module_version": "1.2.0",
          "state": {
            "_model_module": "@jupyter-widgets/base",
            "_model_module_version": "1.2.0",
            "_model_name": "LayoutModel",
            "_view_count": null,
            "_view_module": "@jupyter-widgets/base",
            "_view_module_version": "1.2.0",
            "_view_name": "LayoutView",
            "align_content": null,
            "align_items": null,
            "align_self": null,
            "border": null,
            "bottom": null,
            "display": null,
            "flex": null,
            "flex_flow": null,
            "grid_area": null,
            "grid_auto_columns": null,
            "grid_auto_flow": null,
            "grid_auto_rows": null,
            "grid_column": null,
            "grid_gap": null,
            "grid_row": null,
            "grid_template_areas": null,
            "grid_template_columns": null,
            "grid_template_rows": null,
            "height": null,
            "justify_content": null,
            "justify_items": null,
            "left": null,
            "margin": null,
            "max_height": null,
            "max_width": null,
            "min_height": null,
            "min_width": null,
            "object_fit": null,
            "object_position": null,
            "order": null,
            "overflow": null,
            "overflow_x": null,
            "overflow_y": null,
            "padding": null,
            "right": null,
            "top": null,
            "visibility": null,
            "width": null
          }
        },
        "2f1d13a577054167b5f9bec56b81735e": {
          "model_module": "@jupyter-widgets/controls",
          "model_name": "ProgressStyleModel",
          "model_module_version": "1.5.0",
          "state": {
            "_model_module": "@jupyter-widgets/controls",
            "_model_module_version": "1.5.0",
            "_model_name": "ProgressStyleModel",
            "_view_count": null,
            "_view_module": "@jupyter-widgets/base",
            "_view_module_version": "1.2.0",
            "_view_name": "StyleView",
            "bar_color": null,
            "description_width": ""
          }
        },
        "2262dc2408b24242b3845a7dc9e8e2f8": {
          "model_module": "@jupyter-widgets/base",
          "model_name": "LayoutModel",
          "model_module_version": "1.2.0",
          "state": {
            "_model_module": "@jupyter-widgets/base",
            "_model_module_version": "1.2.0",
            "_model_name": "LayoutModel",
            "_view_count": null,
            "_view_module": "@jupyter-widgets/base",
            "_view_module_version": "1.2.0",
            "_view_name": "LayoutView",
            "align_content": null,
            "align_items": null,
            "align_self": null,
            "border": null,
            "bottom": null,
            "display": null,
            "flex": null,
            "flex_flow": null,
            "grid_area": null,
            "grid_auto_columns": null,
            "grid_auto_flow": null,
            "grid_auto_rows": null,
            "grid_column": null,
            "grid_gap": null,
            "grid_row": null,
            "grid_template_areas": null,
            "grid_template_columns": null,
            "grid_template_rows": null,
            "height": null,
            "justify_content": null,
            "justify_items": null,
            "left": null,
            "margin": null,
            "max_height": null,
            "max_width": null,
            "min_height": null,
            "min_width": null,
            "object_fit": null,
            "object_position": null,
            "order": null,
            "overflow": null,
            "overflow_x": null,
            "overflow_y": null,
            "padding": null,
            "right": null,
            "top": null,
            "visibility": null,
            "width": null
          }
        },
        "8adb62e7501246bba8fe6764ded19c69": {
          "model_module": "@jupyter-widgets/controls",
          "model_name": "DescriptionStyleModel",
          "model_module_version": "1.5.0",
          "state": {
            "_model_module": "@jupyter-widgets/controls",
            "_model_module_version": "1.5.0",
            "_model_name": "DescriptionStyleModel",
            "_view_count": null,
            "_view_module": "@jupyter-widgets/base",
            "_view_module_version": "1.2.0",
            "_view_name": "StyleView",
            "description_width": ""
          }
        },
        "6fd386fd9a674f559653c8cf5c54136b": {
          "model_module": "@jupyter-widgets/controls",
          "model_name": "HBoxModel",
          "model_module_version": "1.5.0",
          "state": {
            "_dom_classes": [],
            "_model_module": "@jupyter-widgets/controls",
            "_model_module_version": "1.5.0",
            "_model_name": "HBoxModel",
            "_view_count": null,
            "_view_module": "@jupyter-widgets/controls",
            "_view_module_version": "1.5.0",
            "_view_name": "HBoxView",
            "box_style": "",
            "children": [
              "IPY_MODEL_b9532143d383455ea4c16891a934ffed",
              "IPY_MODEL_1e387f029b464745bb4238909f5fba45",
              "IPY_MODEL_21a36caa66594a998c5cecd5d2971cee"
            ],
            "layout": "IPY_MODEL_5b5b27c3d06648cda6dddb5623ff54bd"
          }
        },
        "b9532143d383455ea4c16891a934ffed": {
          "model_module": "@jupyter-widgets/controls",
          "model_name": "HTMLModel",
          "model_module_version": "1.5.0",
          "state": {
            "_dom_classes": [],
            "_model_module": "@jupyter-widgets/controls",
            "_model_module_version": "1.5.0",
            "_model_name": "HTMLModel",
            "_view_count": null,
            "_view_module": "@jupyter-widgets/controls",
            "_view_module_version": "1.5.0",
            "_view_name": "HTMLView",
            "description": "",
            "description_tooltip": null,
            "layout": "IPY_MODEL_b474add1ce3b4f4f93a8921958caf6ec",
            "placeholder": "​",
            "style": "IPY_MODEL_30497b9b203a4deebe3f7b9b5a9e2e25",
            "value": "config.json: 100%"
          }
        },
        "1e387f029b464745bb4238909f5fba45": {
          "model_module": "@jupyter-widgets/controls",
          "model_name": "FloatProgressModel",
          "model_module_version": "1.5.0",
          "state": {
            "_dom_classes": [],
            "_model_module": "@jupyter-widgets/controls",
            "_model_module_version": "1.5.0",
            "_model_name": "FloatProgressModel",
            "_view_count": null,
            "_view_module": "@jupyter-widgets/controls",
            "_view_module_version": "1.5.0",
            "_view_name": "ProgressView",
            "bar_style": "success",
            "description": "",
            "description_tooltip": null,
            "layout": "IPY_MODEL_86881cb7604645fcb98696269d1194fc",
            "max": 650,
            "min": 0,
            "orientation": "horizontal",
            "style": "IPY_MODEL_742c178754fe43f28b855344f7670070",
            "value": 650
          }
        },
        "21a36caa66594a998c5cecd5d2971cee": {
          "model_module": "@jupyter-widgets/controls",
          "model_name": "HTMLModel",
          "model_module_version": "1.5.0",
          "state": {
            "_dom_classes": [],
            "_model_module": "@jupyter-widgets/controls",
            "_model_module_version": "1.5.0",
            "_model_name": "HTMLModel",
            "_view_count": null,
            "_view_module": "@jupyter-widgets/controls",
            "_view_module_version": "1.5.0",
            "_view_name": "HTMLView",
            "description": "",
            "description_tooltip": null,
            "layout": "IPY_MODEL_34dc61f80b8344c3ace7f0ad9c815033",
            "placeholder": "​",
            "style": "IPY_MODEL_369f387c4ff4421eacfb13300ceb138f",
            "value": " 650/650 [00:00&lt;00:00, 9.01kB/s]"
          }
        },
        "5b5b27c3d06648cda6dddb5623ff54bd": {
          "model_module": "@jupyter-widgets/base",
          "model_name": "LayoutModel",
          "model_module_version": "1.2.0",
          "state": {
            "_model_module": "@jupyter-widgets/base",
            "_model_module_version": "1.2.0",
            "_model_name": "LayoutModel",
            "_view_count": null,
            "_view_module": "@jupyter-widgets/base",
            "_view_module_version": "1.2.0",
            "_view_name": "LayoutView",
            "align_content": null,
            "align_items": null,
            "align_self": null,
            "border": null,
            "bottom": null,
            "display": null,
            "flex": null,
            "flex_flow": null,
            "grid_area": null,
            "grid_auto_columns": null,
            "grid_auto_flow": null,
            "grid_auto_rows": null,
            "grid_column": null,
            "grid_gap": null,
            "grid_row": null,
            "grid_template_areas": null,
            "grid_template_columns": null,
            "grid_template_rows": null,
            "height": null,
            "justify_content": null,
            "justify_items": null,
            "left": null,
            "margin": null,
            "max_height": null,
            "max_width": null,
            "min_height": null,
            "min_width": null,
            "object_fit": null,
            "object_position": null,
            "order": null,
            "overflow": null,
            "overflow_x": null,
            "overflow_y": null,
            "padding": null,
            "right": null,
            "top": null,
            "visibility": null,
            "width": null
          }
        },
        "b474add1ce3b4f4f93a8921958caf6ec": {
          "model_module": "@jupyter-widgets/base",
          "model_name": "LayoutModel",
          "model_module_version": "1.2.0",
          "state": {
            "_model_module": "@jupyter-widgets/base",
            "_model_module_version": "1.2.0",
            "_model_name": "LayoutModel",
            "_view_count": null,
            "_view_module": "@jupyter-widgets/base",
            "_view_module_version": "1.2.0",
            "_view_name": "LayoutView",
            "align_content": null,
            "align_items": null,
            "align_self": null,
            "border": null,
            "bottom": null,
            "display": null,
            "flex": null,
            "flex_flow": null,
            "grid_area": null,
            "grid_auto_columns": null,
            "grid_auto_flow": null,
            "grid_auto_rows": null,
            "grid_column": null,
            "grid_gap": null,
            "grid_row": null,
            "grid_template_areas": null,
            "grid_template_columns": null,
            "grid_template_rows": null,
            "height": null,
            "justify_content": null,
            "justify_items": null,
            "left": null,
            "margin": null,
            "max_height": null,
            "max_width": null,
            "min_height": null,
            "min_width": null,
            "object_fit": null,
            "object_position": null,
            "order": null,
            "overflow": null,
            "overflow_x": null,
            "overflow_y": null,
            "padding": null,
            "right": null,
            "top": null,
            "visibility": null,
            "width": null
          }
        },
        "30497b9b203a4deebe3f7b9b5a9e2e25": {
          "model_module": "@jupyter-widgets/controls",
          "model_name": "DescriptionStyleModel",
          "model_module_version": "1.5.0",
          "state": {
            "_model_module": "@jupyter-widgets/controls",
            "_model_module_version": "1.5.0",
            "_model_name": "DescriptionStyleModel",
            "_view_count": null,
            "_view_module": "@jupyter-widgets/base",
            "_view_module_version": "1.2.0",
            "_view_name": "StyleView",
            "description_width": ""
          }
        },
        "86881cb7604645fcb98696269d1194fc": {
          "model_module": "@jupyter-widgets/base",
          "model_name": "LayoutModel",
          "model_module_version": "1.2.0",
          "state": {
            "_model_module": "@jupyter-widgets/base",
            "_model_module_version": "1.2.0",
            "_model_name": "LayoutModel",
            "_view_count": null,
            "_view_module": "@jupyter-widgets/base",
            "_view_module_version": "1.2.0",
            "_view_name": "LayoutView",
            "align_content": null,
            "align_items": null,
            "align_self": null,
            "border": null,
            "bottom": null,
            "display": null,
            "flex": null,
            "flex_flow": null,
            "grid_area": null,
            "grid_auto_columns": null,
            "grid_auto_flow": null,
            "grid_auto_rows": null,
            "grid_column": null,
            "grid_gap": null,
            "grid_row": null,
            "grid_template_areas": null,
            "grid_template_columns": null,
            "grid_template_rows": null,
            "height": null,
            "justify_content": null,
            "justify_items": null,
            "left": null,
            "margin": null,
            "max_height": null,
            "max_width": null,
            "min_height": null,
            "min_width": null,
            "object_fit": null,
            "object_position": null,
            "order": null,
            "overflow": null,
            "overflow_x": null,
            "overflow_y": null,
            "padding": null,
            "right": null,
            "top": null,
            "visibility": null,
            "width": null
          }
        },
        "742c178754fe43f28b855344f7670070": {
          "model_module": "@jupyter-widgets/controls",
          "model_name": "ProgressStyleModel",
          "model_module_version": "1.5.0",
          "state": {
            "_model_module": "@jupyter-widgets/controls",
            "_model_module_version": "1.5.0",
            "_model_name": "ProgressStyleModel",
            "_view_count": null,
            "_view_module": "@jupyter-widgets/base",
            "_view_module_version": "1.2.0",
            "_view_name": "StyleView",
            "bar_color": null,
            "description_width": ""
          }
        },
        "34dc61f80b8344c3ace7f0ad9c815033": {
          "model_module": "@jupyter-widgets/base",
          "model_name": "LayoutModel",
          "model_module_version": "1.2.0",
          "state": {
            "_model_module": "@jupyter-widgets/base",
            "_model_module_version": "1.2.0",
            "_model_name": "LayoutModel",
            "_view_count": null,
            "_view_module": "@jupyter-widgets/base",
            "_view_module_version": "1.2.0",
            "_view_name": "LayoutView",
            "align_content": null,
            "align_items": null,
            "align_self": null,
            "border": null,
            "bottom": null,
            "display": null,
            "flex": null,
            "flex_flow": null,
            "grid_area": null,
            "grid_auto_columns": null,
            "grid_auto_flow": null,
            "grid_auto_rows": null,
            "grid_column": null,
            "grid_gap": null,
            "grid_row": null,
            "grid_template_areas": null,
            "grid_template_columns": null,
            "grid_template_rows": null,
            "height": null,
            "justify_content": null,
            "justify_items": null,
            "left": null,
            "margin": null,
            "max_height": null,
            "max_width": null,
            "min_height": null,
            "min_width": null,
            "object_fit": null,
            "object_position": null,
            "order": null,
            "overflow": null,
            "overflow_x": null,
            "overflow_y": null,
            "padding": null,
            "right": null,
            "top": null,
            "visibility": null,
            "width": null
          }
        },
        "369f387c4ff4421eacfb13300ceb138f": {
          "model_module": "@jupyter-widgets/controls",
          "model_name": "DescriptionStyleModel",
          "model_module_version": "1.5.0",
          "state": {
            "_model_module": "@jupyter-widgets/controls",
            "_model_module_version": "1.5.0",
            "_model_name": "DescriptionStyleModel",
            "_view_count": null,
            "_view_module": "@jupyter-widgets/base",
            "_view_module_version": "1.2.0",
            "_view_name": "StyleView",
            "description_width": ""
          }
        },
        "2e9ec9d5c4474e4099d13307755556ba": {
          "model_module": "@jupyter-widgets/controls",
          "model_name": "HBoxModel",
          "model_module_version": "1.5.0",
          "state": {
            "_dom_classes": [],
            "_model_module": "@jupyter-widgets/controls",
            "_model_module_version": "1.5.0",
            "_model_name": "HBoxModel",
            "_view_count": null,
            "_view_module": "@jupyter-widgets/controls",
            "_view_module_version": "1.5.0",
            "_view_name": "HBoxView",
            "box_style": "",
            "children": [
              "IPY_MODEL_c4adca01863247a693ab883f75246720",
              "IPY_MODEL_a3ee03f9ca34491ebc6a04387020c1b9",
              "IPY_MODEL_12e1e4b901714967980d57805a78b208"
            ],
            "layout": "IPY_MODEL_f7ca5eb9115e4b6c904b623506cfc264"
          }
        },
        "c4adca01863247a693ab883f75246720": {
          "model_module": "@jupyter-widgets/controls",
          "model_name": "HTMLModel",
          "model_module_version": "1.5.0",
          "state": {
            "_dom_classes": [],
            "_model_module": "@jupyter-widgets/controls",
            "_model_module_version": "1.5.0",
            "_model_name": "HTMLModel",
            "_view_count": null,
            "_view_module": "@jupyter-widgets/controls",
            "_view_module_version": "1.5.0",
            "_view_name": "HTMLView",
            "description": "",
            "description_tooltip": null,
            "layout": "IPY_MODEL_a1bafd8a28d2449ca6d93cd4400fea14",
            "placeholder": "​",
            "style": "IPY_MODEL_cf41886ac71141f2a306f3d8c72be5ae",
            "value": "model.onnx: 100%"
          }
        },
        "a3ee03f9ca34491ebc6a04387020c1b9": {
          "model_module": "@jupyter-widgets/controls",
          "model_name": "FloatProgressModel",
          "model_module_version": "1.5.0",
          "state": {
            "_dom_classes": [],
            "_model_module": "@jupyter-widgets/controls",
            "_model_module_version": "1.5.0",
            "_model_name": "FloatProgressModel",
            "_view_count": null,
            "_view_module": "@jupyter-widgets/controls",
            "_view_module_version": "1.5.0",
            "_view_name": "ProgressView",
            "bar_style": "success",
            "description": "",
            "description_tooltip": null,
            "layout": "IPY_MODEL_f617c047e92349c690feb9de9d168668",
            "max": 90387630,
            "min": 0,
            "orientation": "horizontal",
            "style": "IPY_MODEL_d1cc624dec43409280ae804054b09ed7",
            "value": 90387630
          }
        },
        "12e1e4b901714967980d57805a78b208": {
          "model_module": "@jupyter-widgets/controls",
          "model_name": "HTMLModel",
          "model_module_version": "1.5.0",
          "state": {
            "_dom_classes": [],
            "_model_module": "@jupyter-widgets/controls",
            "_model_module_version": "1.5.0",
            "_model_name": "HTMLModel",
            "_view_count": null,
            "_view_module": "@jupyter-widgets/controls",
            "_view_module_version": "1.5.0",
            "_view_name": "HTMLView",
            "description": "",
            "description_tooltip": null,
            "layout": "IPY_MODEL_b3c6fc7ba49f42a5b40dff4fa1437940",
            "placeholder": "​",
            "style": "IPY_MODEL_687b97e3fcc84ff0a97049943c9b9e2e",
            "value": " 90.4M/90.4M [00:00&lt;00:00, 124MB/s]"
          }
        },
        "f7ca5eb9115e4b6c904b623506cfc264": {
          "model_module": "@jupyter-widgets/base",
          "model_name": "LayoutModel",
          "model_module_version": "1.2.0",
          "state": {
            "_model_module": "@jupyter-widgets/base",
            "_model_module_version": "1.2.0",
            "_model_name": "LayoutModel",
            "_view_count": null,
            "_view_module": "@jupyter-widgets/base",
            "_view_module_version": "1.2.0",
            "_view_name": "LayoutView",
            "align_content": null,
            "align_items": null,
            "align_self": null,
            "border": null,
            "bottom": null,
            "display": null,
            "flex": null,
            "flex_flow": null,
            "grid_area": null,
            "grid_auto_columns": null,
            "grid_auto_flow": null,
            "grid_auto_rows": null,
            "grid_column": null,
            "grid_gap": null,
            "grid_row": null,
            "grid_template_areas": null,
            "grid_template_columns": null,
            "grid_template_rows": null,
            "height": null,
            "justify_content": null,
            "justify_items": null,
            "left": null,
            "margin": null,
            "max_height": null,
            "max_width": null,
            "min_height": null,
            "min_width": null,
            "object_fit": null,
            "object_position": null,
            "order": null,
            "overflow": null,
            "overflow_x": null,
            "overflow_y": null,
            "padding": null,
            "right": null,
            "top": null,
            "visibility": null,
            "width": null
          }
        },
        "a1bafd8a28d2449ca6d93cd4400fea14": {
          "model_module": "@jupyter-widgets/base",
          "model_name": "LayoutModel",
          "model_module_version": "1.2.0",
          "state": {
            "_model_module": "@jupyter-widgets/base",
            "_model_module_version": "1.2.0",
            "_model_name": "LayoutModel",
            "_view_count": null,
            "_view_module": "@jupyter-widgets/base",
            "_view_module_version": "1.2.0",
            "_view_name": "LayoutView",
            "align_content": null,
            "align_items": null,
            "align_self": null,
            "border": null,
            "bottom": null,
            "display": null,
            "flex": null,
            "flex_flow": null,
            "grid_area": null,
            "grid_auto_columns": null,
            "grid_auto_flow": null,
            "grid_auto_rows": null,
            "grid_column": null,
            "grid_gap": null,
            "grid_row": null,
            "grid_template_areas": null,
            "grid_template_columns": null,
            "grid_template_rows": null,
            "height": null,
            "justify_content": null,
            "justify_items": null,
            "left": null,
            "margin": null,
            "max_height": null,
            "max_width": null,
            "min_height": null,
            "min_width": null,
            "object_fit": null,
            "object_position": null,
            "order": null,
            "overflow": null,
            "overflow_x": null,
            "overflow_y": null,
            "padding": null,
            "right": null,
            "top": null,
            "visibility": null,
            "width": null
          }
        },
        "cf41886ac71141f2a306f3d8c72be5ae": {
          "model_module": "@jupyter-widgets/controls",
          "model_name": "DescriptionStyleModel",
          "model_module_version": "1.5.0",
          "state": {
            "_model_module": "@jupyter-widgets/controls",
            "_model_module_version": "1.5.0",
            "_model_name": "DescriptionStyleModel",
            "_view_count": null,
            "_view_module": "@jupyter-widgets/base",
            "_view_module_version": "1.2.0",
            "_view_name": "StyleView",
            "description_width": ""
          }
        },
        "f617c047e92349c690feb9de9d168668": {
          "model_module": "@jupyter-widgets/base",
          "model_name": "LayoutModel",
          "model_module_version": "1.2.0",
          "state": {
            "_model_module": "@jupyter-widgets/base",
            "_model_module_version": "1.2.0",
            "_model_name": "LayoutModel",
            "_view_count": null,
            "_view_module": "@jupyter-widgets/base",
            "_view_module_version": "1.2.0",
            "_view_name": "LayoutView",
            "align_content": null,
            "align_items": null,
            "align_self": null,
            "border": null,
            "bottom": null,
            "display": null,
            "flex": null,
            "flex_flow": null,
            "grid_area": null,
            "grid_auto_columns": null,
            "grid_auto_flow": null,
            "grid_auto_rows": null,
            "grid_column": null,
            "grid_gap": null,
            "grid_row": null,
            "grid_template_areas": null,
            "grid_template_columns": null,
            "grid_template_rows": null,
            "height": null,
            "justify_content": null,
            "justify_items": null,
            "left": null,
            "margin": null,
            "max_height": null,
            "max_width": null,
            "min_height": null,
            "min_width": null,
            "object_fit": null,
            "object_position": null,
            "order": null,
            "overflow": null,
            "overflow_x": null,
            "overflow_y": null,
            "padding": null,
            "right": null,
            "top": null,
            "visibility": null,
            "width": null
          }
        },
        "d1cc624dec43409280ae804054b09ed7": {
          "model_module": "@jupyter-widgets/controls",
          "model_name": "ProgressStyleModel",
          "model_module_version": "1.5.0",
          "state": {
            "_model_module": "@jupyter-widgets/controls",
            "_model_module_version": "1.5.0",
            "_model_name": "ProgressStyleModel",
            "_view_count": null,
            "_view_module": "@jupyter-widgets/base",
            "_view_module_version": "1.2.0",
            "_view_name": "StyleView",
            "bar_color": null,
            "description_width": ""
          }
        },
        "b3c6fc7ba49f42a5b40dff4fa1437940": {
          "model_module": "@jupyter-widgets/base",
          "model_name": "LayoutModel",
          "model_module_version": "1.2.0",
          "state": {
            "_model_module": "@jupyter-widgets/base",
            "_model_module_version": "1.2.0",
            "_model_name": "LayoutModel",
            "_view_count": null,
            "_view_module": "@jupyter-widgets/base",
            "_view_module_version": "1.2.0",
            "_view_name": "LayoutView",
            "align_content": null,
            "align_items": null,
            "align_self": null,
            "border": null,
            "bottom": null,
            "display": null,
            "flex": null,
            "flex_flow": null,
            "grid_area": null,
            "grid_auto_columns": null,
            "grid_auto_flow": null,
            "grid_auto_rows": null,
            "grid_column": null,
            "grid_gap": null,
            "grid_row": null,
            "grid_template_areas": null,
            "grid_template_columns": null,
            "grid_template_rows": null,
            "height": null,
            "justify_content": null,
            "justify_items": null,
            "left": null,
            "margin": null,
            "max_height": null,
            "max_width": null,
            "min_height": null,
            "min_width": null,
            "object_fit": null,
            "object_position": null,
            "order": null,
            "overflow": null,
            "overflow_x": null,
            "overflow_y": null,
            "padding": null,
            "right": null,
            "top": null,
            "visibility": null,
            "width": null
          }
        },
        "687b97e3fcc84ff0a97049943c9b9e2e": {
          "model_module": "@jupyter-widgets/controls",
          "model_name": "DescriptionStyleModel",
          "model_module_version": "1.5.0",
          "state": {
            "_model_module": "@jupyter-widgets/controls",
            "_model_module_version": "1.5.0",
            "_model_name": "DescriptionStyleModel",
            "_view_count": null,
            "_view_module": "@jupyter-widgets/base",
            "_view_module_version": "1.2.0",
            "_view_name": "StyleView",
            "description_width": ""
          }
        }
      }
    }
  },
  "cells": [
    {
      "cell_type": "markdown",
      "source": [
        "# Test for AI news assistant"
      ],
      "metadata": {
        "id": "rPsjoxYIMuL3"
      }
    },
    {
      "cell_type": "markdown",
      "source": [
        "## Import libraries"
      ],
      "metadata": {
        "id": "Ue46GdXpM0Zm"
      }
    },
    {
      "cell_type": "code",
      "execution_count": 14,
      "metadata": {
        "id": "e4vN77i8qMa6"
      },
      "outputs": [],
      "source": [
        "import getpass\n",
        "import os\n",
        "from typing import Optional\n",
        "\n",
        "try:\n",
        "    import feedparser\n",
        "except:\n",
        "    !pip install feedparser > /dev/null\n",
        "    import feedparser\n",
        "\n",
        "try:\n",
        "    from langchain_openai import ChatOpenAI\n",
        "except:\n",
        "    !pip install langchain-openai > /dev/null\n",
        "    from langchain_openai import ChatOpenAI\n",
        "\n",
        "\n",
        "from langchain_core.pydantic_v1 import BaseModel, Field\n",
        "from langchain_core.prompts import PromptTemplate\n",
        "from langchain_core.output_parsers import PydanticOutputParser\n",
        "\n",
        "\n",
        "try:\n",
        "    from qdrant_client import models, QdrantClient\n",
        "except:\n",
        "    !pip install -U \"qdrant-client[fastembed]>=1.8.2\" > /dev/null\n",
        "    from qdrant_client import models, QdrantClient\n",
        "\n",
        "import pandas as pd\n"
      ]
    },
    {
      "cell_type": "markdown",
      "source": [
        "## Define functions"
      ],
      "metadata": {
        "id": "xlOzCJXYM38l"
      }
    },
    {
      "cell_type": "code",
      "source": [
        "def fetch_rss_feed(url):\n",
        "    \"\"\"Function that parses an RSS feed given the\n",
        "    \"\"\"\n",
        "    # Parse the RSS feed\n",
        "    feed = feedparser.parse(url)\n",
        "\n",
        "    records = []\n",
        "    # add each entry to list\n",
        "    for entry in feed.entries:\n",
        "        new_entry = {}\n",
        "        new_entry[\"title\"] = entry.title\n",
        "        new_entry[\"link\"] = entry.link\n",
        "        # Not all instance have a description\n",
        "        try:\n",
        "            new_entry[\"text\"] = f\"{entry.title}. {entry.description}\"\n",
        "        except:\n",
        "            new_entry[\"text\"] = entry.title\n",
        "        records.append(new_entry)\n",
        "    return records"
      ],
      "metadata": {
        "id": "2u_tdjrFqd6V"
      },
      "execution_count": 2,
      "outputs": []
    },
    {
      "cell_type": "markdown",
      "source": [
        "## Setup LLM with structured output"
      ],
      "metadata": {
        "id": "5qvNVR-ZMqj4"
      }
    },
    {
      "cell_type": "code",
      "source": [
        "llm = ChatOpenAI(\n",
        "    model=\"tiiuae/falcon-180B-chat\",\n",
        "    api_key=getpass.getpass(),\n",
        "    base_url=\"https://api.ai71.ai/v1/\",)"
      ],
      "metadata": {
        "colab": {
          "base_uri": "https://localhost:8080/"
        },
        "id": "X7_Zofhm4LK_",
        "outputId": "65f639b6-c86f-40b8-962e-b21795cd9594"
      },
      "execution_count": 4,
      "outputs": [
        {
          "name": "stdout",
          "output_type": "stream",
          "text": [
            "··········\n"
          ]
        }
      ]
    },
    {
      "cell_type": "code",
      "source": [
        "interests = \"I want to have summaries of all news involving NASA, space exploration, or Donald Trump\"\n",
        "\n",
        "priorities = \"I want to be immediately notified of any news regarding the olympic games\""
      ],
      "metadata": {
        "id": "KFPb_tXB266u"
      },
      "execution_count": 5,
      "outputs": []
    },
    {
      "cell_type": "code",
      "source": [
        "class FitInterest(BaseModel):\n",
        "    \"\"\"Whether the news fit with user's interests.\"\"\"\n",
        "    fit_interests: bool = Field(description=\"Do the news fit the user's interest?\")\n",
        "\n",
        "\n",
        "class FitPriority(BaseModel):\n",
        "    \"\"\"Whether the news fit with user's priorities.\"\"\"\n",
        "    fit_priorities: bool = Field(description=\"Do the news fit the user's priorities?\")"
      ],
      "metadata": {
        "id": "eun1tmz54xhL"
      },
      "execution_count": 6,
      "outputs": []
    },
    {
      "cell_type": "code",
      "source": [
        "# Set up a parser\n",
        "\n",
        "interest_parser = PydanticOutputParser(pydantic_object=FitInterest)\n",
        "\n",
        "priority_parser = PydanticOutputParser(pydantic_object=FitPriority)\n"
      ],
      "metadata": {
        "id": "1uruclP3LM0r"
      },
      "execution_count": 7,
      "outputs": []
    },
    {
      "cell_type": "code",
      "source": [
        "prompt_interests = PromptTemplate.from_template(\n",
        "    \"\"\"You are an expert news analyst which needs to select news  \\\n",
        "       according to the user's interests. The user expressed the \\\n",
        "       following interests:\n",
        "\n",
        "       {interests}\n",
        "\n",
        "       Please establish whether the following news match the user's interests:\n",
        "\n",
        "       {news}\n",
        "\n",
        "       Wrap the output in `json` tags\\n{format_instructions}\"\"\")\n",
        "\n",
        "partial_interests = prompt_interests.partial(interests=interests,format_instructions=interest_parser.get_format_instructions())\n",
        "\n",
        "prompt_priorities = PromptTemplate.from_template(\n",
        "    \"\"\"You are an expert news analyst which needs to select news  \\\n",
        "       according to the user's priorities. The user expressed the \\\n",
        "       following priorities:\n",
        "\n",
        "       {priorities}\n",
        "\n",
        "       Please establish whether the following news match the user's priorities:\n",
        "\n",
        "       {news}\n",
        "\n",
        "       Wrap the output in `json` tags\\n{format_instructions}\"\"\")\n",
        "\n",
        "partial_priorities = prompt_priorities.partial(priorities=priorities,format_instructions=priority_parser.get_format_instructions())\n"
      ],
      "metadata": {
        "id": "J44P_F1t8elQ"
      },
      "execution_count": 8,
      "outputs": []
    },
    {
      "cell_type": "code",
      "source": [
        "interests_chain = partial_interests | llm | interest_parser\n",
        "priorities_chain = partial_priorities | llm | priority_parser"
      ],
      "metadata": {
        "id": "Jbm0RUQ38ehc"
      },
      "execution_count": 9,
      "outputs": []
    },
    {
      "cell_type": "markdown",
      "source": [
        "## Read RSS feeds"
      ],
      "metadata": {
        "id": "xIgHzoMYM7sL"
      }
    },
    {
      "cell_type": "code",
      "source": [
        "bbc_europe = \"https://feeds.bbci.co.uk/news/world/europe/rss.xml\"\n",
        "\n",
        "cnn = \"http://rss.cnn.com/rss/edition.rss\""
      ],
      "metadata": {
        "id": "LDaTdUSSqrOo"
      },
      "execution_count": 10,
      "outputs": []
    },
    {
      "cell_type": "code",
      "source": [
        "bbc_feeds = fetch_rss_feed(bbc_europe)"
      ],
      "metadata": {
        "id": "TQaejxOHq1xF"
      },
      "execution_count": 11,
      "outputs": []
    },
    {
      "cell_type": "code",
      "source": [
        "cnn_feeds = fetch_rss_feed(cnn)"
      ],
      "metadata": {
        "id": "GoL3Mt5gq4HY"
      },
      "execution_count": 12,
      "outputs": []
    },
    {
      "cell_type": "markdown",
      "source": [
        "## Analyze RSS feed"
      ],
      "metadata": {
        "id": "HpLYpCnkM_yV"
      }
    },
    {
      "cell_type": "markdown",
      "source": [
        "Test on one feed"
      ],
      "metadata": {
        "id": "W9LYxkSZOdXo"
      }
    },
    {
      "cell_type": "code",
      "source": [
        "test = priorities_chain.invoke(input={\"news\":bbc_feeds[1].get(\"text\")})"
      ],
      "metadata": {
        "id": "V5bEXag78ebs"
      },
      "execution_count": 116,
      "outputs": []
    },
    {
      "cell_type": "code",
      "source": [
        "test.fit_priorities"
      ],
      "metadata": {
        "colab": {
          "base_uri": "https://localhost:8080/"
        },
        "id": "Qy2NLLgZNIUb",
        "outputId": "ecfc0288-a3dc-49d6-843f-0796d6785d67"
      },
      "execution_count": 117,
      "outputs": [
        {
          "output_type": "execute_result",
          "data": {
            "text/plain": [
              "True"
            ]
          },
          "metadata": {},
          "execution_count": 117
        }
      ]
    },
    {
      "cell_type": "markdown",
      "source": [
        "Loop over all feeds"
      ],
      "metadata": {
        "id": "m01h-sFuNV8F"
      }
    },
    {
      "cell_type": "code",
      "source": [
        "analyzed_feeds = []\n",
        "\n",
        "for feed in bbc_feeds + cnn_feeds:\n",
        "    new_feed = {\n",
        "        **feed,\n",
        "        \"interest\": None,\n",
        "        \"interest_parsing_err\": False,\n",
        "        \"priority\": None,\n",
        "        \"priority_parsing_err\": False,\n",
        "        \"summarized\": False # prepopulate this field for insertion in DB\n",
        "    }\n",
        "    # Output parsing is not very solid...\n",
        "    # Need try-except logic\n",
        "    try:\n",
        "        new_interest = interests_chain.invoke(input={\"news\":feed.get(\"text\")})\n",
        "    except:\n",
        "        new_interest = FitInterest(fit_interests = False)\n",
        "        new_feed[\"interest_parsing_err\"] = True\n",
        "    try:\n",
        "        new_priority = priorities_chain.invoke(input={\"news\":feed.get(\"text\")})\n",
        "    except:\n",
        "        new_priority = FitPriority(fit_priorities = False)\n",
        "        new_feed[\"priority_parsing_err\"] = True\n",
        "\n",
        "    new_feed[\"interest\"] = new_interest.fit_interests\n",
        "    new_feed[\"priority\"] = new_priority.fit_priorities\n",
        "\n",
        "    analyzed_feeds.append(new_feed)\n",
        ""
      ],
      "metadata": {
        "id": "n0Nxq-JANVGi"
      },
      "execution_count": 126,
      "outputs": []
    },
    {
      "cell_type": "markdown",
      "source": [
        "Export output to excel for checking"
      ],
      "metadata": {
        "id": "-ZW2q1TRR_qQ"
      }
    },
    {
      "cell_type": "code",
      "source": [
        "data_df = pd.DataFrame(analyzed_feeds)\n",
        "\n",
        "data_df.to_excel(\"feeds_test.xlsx\", index=False)"
      ],
      "metadata": {
        "id": "wfIR7qUGQRty"
      },
      "execution_count": 127,
      "outputs": []
    },
    {
      "cell_type": "code",
      "source": [
        "data_df[\"priority_parsing_err\"].value_counts()"
      ],
      "metadata": {
        "colab": {
          "base_uri": "https://localhost:8080/",
          "height": 178
        },
        "id": "UIRxWMH9T34p",
        "outputId": "9d5b6a5c-701d-46af-867c-12ffa5a22f3e"
      },
      "execution_count": 128,
      "outputs": [
        {
          "output_type": "execute_result",
          "data": {
            "text/plain": [
              "priority_parsing_err\n",
              "False    93\n",
              "True      6\n",
              "Name: count, dtype: int64"
            ],
            "text/html": [
              "<table border=\"1\" class=\"dataframe\">\n",
              "  <thead>\n",
              "    <tr style=\"text-align: right;\">\n",
              "      <th></th>\n",
              "      <th>count</th>\n",
              "    </tr>\n",
              "    <tr>\n",
              "      <th>priority_parsing_err</th>\n",
              "      <th></th>\n",
              "    </tr>\n",
              "  </thead>\n",
              "  <tbody>\n",
              "    <tr>\n",
              "      <th>False</th>\n",
              "      <td>93</td>\n",
              "    </tr>\n",
              "    <tr>\n",
              "      <th>True</th>\n",
              "      <td>6</td>\n",
              "    </tr>\n",
              "  </tbody>\n",
              "</table><br><label><b>dtype:</b> int64</label>"
            ]
          },
          "metadata": {},
          "execution_count": 128
        }
      ]
    },
    {
      "cell_type": "code",
      "source": [
        "data_df[\"interest_parsing_err\"].value_counts()"
      ],
      "metadata": {
        "colab": {
          "base_uri": "https://localhost:8080/",
          "height": 178
        },
        "id": "K23BjDHxT_IK",
        "outputId": "90925bbd-7d16-4782-f6f8-c70ae6e70067"
      },
      "execution_count": 129,
      "outputs": [
        {
          "output_type": "execute_result",
          "data": {
            "text/plain": [
              "interest_parsing_err\n",
              "False    92\n",
              "True      7\n",
              "Name: count, dtype: int64"
            ],
            "text/html": [
              "<table border=\"1\" class=\"dataframe\">\n",
              "  <thead>\n",
              "    <tr style=\"text-align: right;\">\n",
              "      <th></th>\n",
              "      <th>count</th>\n",
              "    </tr>\n",
              "    <tr>\n",
              "      <th>interest_parsing_err</th>\n",
              "      <th></th>\n",
              "    </tr>\n",
              "  </thead>\n",
              "  <tbody>\n",
              "    <tr>\n",
              "      <th>False</th>\n",
              "      <td>92</td>\n",
              "    </tr>\n",
              "    <tr>\n",
              "      <th>True</th>\n",
              "      <td>7</td>\n",
              "    </tr>\n",
              "  </tbody>\n",
              "</table><br><label><b>dtype:</b> int64</label>"
            ]
          },
          "metadata": {},
          "execution_count": 129
        }
      ]
    },
    {
      "cell_type": "code",
      "source": [
        "data_df[\"interest\"].value_counts()"
      ],
      "metadata": {
        "colab": {
          "base_uri": "https://localhost:8080/",
          "height": 178
        },
        "id": "ybtT9VRNay-A",
        "outputId": "ec1c9266-3d66-4d65-96a5-f1c87dcb3743"
      },
      "execution_count": 24,
      "outputs": [
        {
          "output_type": "execute_result",
          "data": {
            "text/plain": [
              "interest\n",
              "True     80\n",
              "False    19\n",
              "Name: count, dtype: int64"
            ],
            "text/html": [
              "<table border=\"1\" class=\"dataframe\">\n",
              "  <thead>\n",
              "    <tr style=\"text-align: right;\">\n",
              "      <th></th>\n",
              "      <th>count</th>\n",
              "    </tr>\n",
              "    <tr>\n",
              "      <th>interest</th>\n",
              "      <th></th>\n",
              "    </tr>\n",
              "  </thead>\n",
              "  <tbody>\n",
              "    <tr>\n",
              "      <th>True</th>\n",
              "      <td>80</td>\n",
              "    </tr>\n",
              "    <tr>\n",
              "      <th>False</th>\n",
              "      <td>19</td>\n",
              "    </tr>\n",
              "  </tbody>\n",
              "</table><br><label><b>dtype:</b> int64</label>"
            ]
          },
          "metadata": {},
          "execution_count": 24
        }
      ]
    },
    {
      "cell_type": "code",
      "source": [
        "data_df[\"priority\"].value_counts()\n"
      ],
      "metadata": {
        "colab": {
          "base_uri": "https://localhost:8080/",
          "height": 178
        },
        "id": "q9jptb4AbUbF",
        "outputId": "68f6f546-7f7a-417e-fa68-6d4baa16cef7"
      },
      "execution_count": 25,
      "outputs": [
        {
          "output_type": "execute_result",
          "data": {
            "text/plain": [
              "priority\n",
              "True     82\n",
              "False    17\n",
              "Name: count, dtype: int64"
            ],
            "text/html": [
              "<table border=\"1\" class=\"dataframe\">\n",
              "  <thead>\n",
              "    <tr style=\"text-align: right;\">\n",
              "      <th></th>\n",
              "      <th>count</th>\n",
              "    </tr>\n",
              "    <tr>\n",
              "      <th>priority</th>\n",
              "      <th></th>\n",
              "    </tr>\n",
              "  </thead>\n",
              "  <tbody>\n",
              "    <tr>\n",
              "      <th>True</th>\n",
              "      <td>82</td>\n",
              "    </tr>\n",
              "    <tr>\n",
              "      <th>False</th>\n",
              "      <td>17</td>\n",
              "    </tr>\n",
              "  </tbody>\n",
              "</table><br><label><b>dtype:</b> int64</label>"
            ]
          },
          "metadata": {},
          "execution_count": 25
        }
      ]
    },
    {
      "cell_type": "markdown",
      "source": [
        "Around 6-7% error rate for classification. Way too many news classified as interesting."
      ],
      "metadata": {
        "id": "iXCJGowWUJn0"
      }
    },
    {
      "cell_type": "markdown",
      "source": [
        "From now on we could perform the actions for each record (saving in DB, sending email) according to the values of \"interest\" and \"priority\" in the dictionary.\n",
        "\n",
        "Need to decide how to handle fields with errors. Since the output parser seems quite weak, we could consider using an agent-based workflow with CrewAI as improvement and implement tools to save to DB."
      ],
      "metadata": {
        "id": "c5Krk5JdSQfc"
      }
    },
    {
      "cell_type": "markdown",
      "source": [
        "Import data from excel, avoid rerunning the LLM"
      ],
      "metadata": {
        "id": "KkvD5ahCY7GM"
      }
    },
    {
      "cell_type": "code",
      "source": [
        "data_df = pd.read_excel(\"feeds_test.xlsx\")\n",
        "\n",
        "analyzed_feeds = data_df.to_dict(orient=\"records\")"
      ],
      "metadata": {
        "id": "9CbjwZrgY-vR"
      },
      "execution_count": 15,
      "outputs": []
    },
    {
      "cell_type": "markdown",
      "source": [
        "## Save into Qdrant"
      ],
      "metadata": {
        "id": "DL0q4HROVarT"
      }
    },
    {
      "cell_type": "code",
      "source": [
        "client = QdrantClient(\":memory:\") # To be changed with Qdrant cloud service\n",
        "client.set_model(\"sentence-transformers/all-MiniLM-L6-v2\")"
      ],
      "metadata": {
        "colab": {
          "base_uri": "https://localhost:8080/",
          "height": 316,
          "referenced_widgets": [
            "ecb9cd93b6574bb4884c768e2a1b5e27",
            "8a92b353c5c841e8a701b0f35c83b937",
            "9fccbe7b2c7d4d7fb7c949629702a126",
            "4f68fe92cbc64e499f2821b27d6ef234",
            "0b8d7ec771d3436ea65047f6e3767e66",
            "fbdfbca2f7b34cbc96d7dc81b0f66d9f",
            "141cfa61ec1c47c0a8ce1a6769779b02",
            "25cf0261adcf424e8ee77bb7fdd23ff6",
            "a2f0c2e4c0ef46fb93d61e8b0db21f2c",
            "82f60522802e4d128a45cdecc821cfad",
            "1386ce9b188d4abfad0ddb2bd8c73bba",
            "947866cc99b04d6aa301fd4068264818",
            "f17ab4b9a9f94dfeafaa78b36a00bf2e",
            "f7f6b60b13bd45f1b065dfa74be7b918",
            "a4e6331536d246f09eaec25cafde07e1",
            "0e3152575dac45cbb87128387426f9b4",
            "a7ca017f70534fa39e02196f6a3aee80",
            "b993ae11008f469f8a1574e1b89da4c8",
            "bc3c48227b194ce29a62e1f51f58263b",
            "ae0033a4f4234f2fa52efef8673190ba",
            "4acecc05aec24bbf8252c78ec4761dfa",
            "5b81145b43b94c51a623bf621dffba2c",
            "fd2c9e04122f4c67ac61a0ec18ec201f",
            "6cb02ba95a374699a4d674cc4d3a124c",
            "c652a984f4fc4e7690941de0652c8bdc",
            "663a301491ae40b39b77e725431c0638",
            "421a0e8ec3604a8fb0610f31cb0419a5",
            "271a1f2eeb8f485990413a2b74f82bd5",
            "99340c94272249fd85da8a82d6ca7a1b",
            "51f0eebcb8714444af63b5b4d210d70e",
            "094d0b8b9abc4b4aabe4408bf4ccc41d",
            "fc266829fc8247c3bc559dc8782ebe2b",
            "06d466bac51a41cf8cf7eabd7dc76053",
            "3859acfd851b432690a73eba165a56dc",
            "9f5a85021aaf484494fca0fafb82aca2",
            "70fb1af4a75347bea56b507861f441f3",
            "4c781d37edd646948af0b1799e131dbd",
            "b1e667617b104a08b2aff13e681e98d0",
            "aaf27ab7926247e885b13c948cc46298",
            "4db072a0cde64645b3ab3add541795fa",
            "94f84c6d96db4f8caf167b126723fd7e",
            "2f1d13a577054167b5f9bec56b81735e",
            "2262dc2408b24242b3845a7dc9e8e2f8",
            "8adb62e7501246bba8fe6764ded19c69",
            "6fd386fd9a674f559653c8cf5c54136b",
            "b9532143d383455ea4c16891a934ffed",
            "1e387f029b464745bb4238909f5fba45",
            "21a36caa66594a998c5cecd5d2971cee",
            "5b5b27c3d06648cda6dddb5623ff54bd",
            "b474add1ce3b4f4f93a8921958caf6ec",
            "30497b9b203a4deebe3f7b9b5a9e2e25",
            "86881cb7604645fcb98696269d1194fc",
            "742c178754fe43f28b855344f7670070",
            "34dc61f80b8344c3ace7f0ad9c815033",
            "369f387c4ff4421eacfb13300ceb138f",
            "2e9ec9d5c4474e4099d13307755556ba",
            "c4adca01863247a693ab883f75246720",
            "a3ee03f9ca34491ebc6a04387020c1b9",
            "12e1e4b901714967980d57805a78b208",
            "f7ca5eb9115e4b6c904b623506cfc264",
            "a1bafd8a28d2449ca6d93cd4400fea14",
            "cf41886ac71141f2a306f3d8c72be5ae",
            "f617c047e92349c690feb9de9d168668",
            "d1cc624dec43409280ae804054b09ed7",
            "b3c6fc7ba49f42a5b40dff4fa1437940",
            "687b97e3fcc84ff0a97049943c9b9e2e"
          ]
        },
        "id": "YmnarkWwWASs",
        "outputId": "69e7e058-cfce-49ee-efa1-c786af59342e"
      },
      "execution_count": 16,
      "outputs": [
        {
          "output_type": "stream",
          "name": "stderr",
          "text": [
            "/usr/local/lib/python3.10/dist-packages/huggingface_hub/utils/_token.py:88: UserWarning: \n",
            "The secret `HF_TOKEN` does not exist in your Colab secrets.\n",
            "To authenticate with the Hugging Face Hub, create a token in your settings tab (https://huggingface.co/settings/tokens), set it as secret in your Google Colab and restart your session.\n",
            "You will be able to reuse this secret in all of your notebooks.\n",
            "Please note that authentication is recommended but still optional to access public models or datasets.\n",
            "  warnings.warn(\n"
          ]
        },
        {
          "output_type": "display_data",
          "data": {
            "text/plain": [
              "Fetching 5 files:   0%|          | 0/5 [00:00<?, ?it/s]"
            ],
            "application/vnd.jupyter.widget-view+json": {
              "version_major": 2,
              "version_minor": 0,
              "model_id": "ecb9cd93b6574bb4884c768e2a1b5e27"
            }
          },
          "metadata": {}
        },
        {
          "output_type": "display_data",
          "data": {
            "text/plain": [
              "special_tokens_map.json:   0%|          | 0.00/695 [00:00<?, ?B/s]"
            ],
            "application/vnd.jupyter.widget-view+json": {
              "version_major": 2,
              "version_minor": 0,
              "model_id": "947866cc99b04d6aa301fd4068264818"
            }
          },
          "metadata": {}
        },
        {
          "output_type": "display_data",
          "data": {
            "text/plain": [
              "tokenizer_config.json:   0%|          | 0.00/1.43k [00:00<?, ?B/s]"
            ],
            "application/vnd.jupyter.widget-view+json": {
              "version_major": 2,
              "version_minor": 0,
              "model_id": "fd2c9e04122f4c67ac61a0ec18ec201f"
            }
          },
          "metadata": {}
        },
        {
          "output_type": "display_data",
          "data": {
            "text/plain": [
              "tokenizer.json:   0%|          | 0.00/712k [00:00<?, ?B/s]"
            ],
            "application/vnd.jupyter.widget-view+json": {
              "version_major": 2,
              "version_minor": 0,
              "model_id": "3859acfd851b432690a73eba165a56dc"
            }
          },
          "metadata": {}
        },
        {
          "output_type": "display_data",
          "data": {
            "text/plain": [
              "config.json:   0%|          | 0.00/650 [00:00<?, ?B/s]"
            ],
            "application/vnd.jupyter.widget-view+json": {
              "version_major": 2,
              "version_minor": 0,
              "model_id": "6fd386fd9a674f559653c8cf5c54136b"
            }
          },
          "metadata": {}
        },
        {
          "output_type": "display_data",
          "data": {
            "text/plain": [
              "model.onnx:   0%|          | 0.00/90.4M [00:00<?, ?B/s]"
            ],
            "application/vnd.jupyter.widget-view+json": {
              "version_major": 2,
              "version_minor": 0,
              "model_id": "2e9ec9d5c4474e4099d13307755556ba"
            }
          },
          "metadata": {}
        }
      ]
    },
    {
      "cell_type": "code",
      "source": [
        "# In production better to test if collection exists, and make sure ids are not repeated\n",
        "# This code needs to be rewritten\n",
        "client.recreate_collection(\n",
        "    collection_name=\"news\",\n",
        "    vectors_config=client.get_fastembed_vector_params(),\n",
        "    # comment this line to use dense vectors only\n",
        "    # sparse_vectors_config=client.get_fastembed_sparse_vector_params(),\n",
        ")"
      ],
      "metadata": {
        "colab": {
          "base_uri": "https://localhost:8080/"
        },
        "id": "PJ9-KcF1SPr9",
        "outputId": "5955f77f-076a-49a3-bb15-90c2672ce867"
      },
      "execution_count": 26,
      "outputs": [
        {
          "output_type": "stream",
          "name": "stderr",
          "text": [
            "<ipython-input-26-cf8a67b141b6>:3: DeprecationWarning: `recreate_collection` method is deprecated and will be removed in the future. Use `collection_exists` to check collection existence and `create_collection` instead.\n",
            "  client.recreate_collection(\n"
          ]
        },
        {
          "output_type": "execute_result",
          "data": {
            "text/plain": [
              "True"
            ]
          },
          "metadata": {},
          "execution_count": 26
        }
      ]
    },
    {
      "cell_type": "code",
      "source": [
        "# Loop to build list of documents to be uploaded in Qdrant\n",
        "metadata = []\n",
        "documents = []\n",
        "\n",
        "for feed in analyzed_feeds:\n",
        "    # Only append interesting news\n",
        "    if feed.get(\"interest\"):\n",
        "        metadata.append(feed)\n",
        "        documents.append(feed.get(\"text\"))"
      ],
      "metadata": {
        "id": "Q3uQRAUqZ0Hp"
      },
      "execution_count": 27,
      "outputs": []
    },
    {
      "cell_type": "code",
      "source": [
        "client.add(\n",
        "    collection_name=\"news\",\n",
        "    documents=documents,\n",
        "    metadata=metadata,\n",
        "    parallel=0,  # Use all available CPU cores to encode data.\n",
        "    # Requires wrapping code into if __name__ == '__main__' block\n",
        ")"
      ],
      "metadata": {
        "colab": {
          "base_uri": "https://localhost:8080/"
        },
        "id": "t_oqFL0IZ0EK",
        "outputId": "161e3f63-d688-411b-8cd5-7eb5cff1fb57"
      },
      "execution_count": 28,
      "outputs": [
        {
          "output_type": "execute_result",
          "data": {
            "text/plain": [
              "['baf2baeb6ee742a69774c2eabad3db22',\n",
              " '3305d9f610cd4852a672181d0a13c6a4',\n",
              " 'd1f9c5b09d6b47aaaa67338b58217e63',\n",
              " 'e934d0718a03431b8c88cea3818f65a2',\n",
              " '0cef909a312f4061b0989201b60b1366',\n",
              " '3afbeb1f39b34bea9b0dea5e9d3c9db2',\n",
              " 'e44b157548c245f3a339d9b76928cb20',\n",
              " '3b4623398b634ba5883fffb85c343106',\n",
              " '4de9f6c2a51b4264819e2f2ad7e0259a',\n",
              " 'd7fef33b065d4b02a9c33871270c1519',\n",
              " 'd996e307f8874461a7456ed22245f11f',\n",
              " '3c1f6b39879443d9bd3d48992fecfc70',\n",
              " 'be0dd65bcd124967a19c3e88cbcde240',\n",
              " '3536443294594f1583a33436e1de3efc',\n",
              " 'e730545ef1f149b09e3e87362fb07c8b',\n",
              " 'e45849b9bf014be2ae87ec909c7575fc',\n",
              " '5f6a73da46214d3d9b89887c3a34dfe3',\n",
              " '6634a847a08b41b4a9f2ceb55d85b36f',\n",
              " '7e0fdfa2fb3a42079b60a77e07d02006',\n",
              " 'a6c4e3848f62465782a7469e6728545a',\n",
              " '55100524e7524f8383f69ff98779a846',\n",
              " '55ef648557874537862d20402b17f260',\n",
              " 'cb1807130e094bf68f2f2f3e565b66cc',\n",
              " 'e7ca01edc3ca4300bcb1e3fb04954a5b',\n",
              " 'cf91935f298a4538b57695a91772c45e',\n",
              " '97a2d386e7964521b58b7135023e84bf',\n",
              " 'e54863eb7146446386663a068fd6e672',\n",
              " 'ba51c4690c2d4459b60ceeb0d9d7cbb0',\n",
              " '9250e37af24a48798ffb4438c2fbf389',\n",
              " '26ae7eb4b594414bb9fb2c646136d989',\n",
              " '2fa69daf7c6249f292428e698da552c3',\n",
              " '20c9bfa9974f4173bde002aa880bbebc',\n",
              " '308caa79972747ea8deec7fb1584dbd6',\n",
              " '549dc263aecb476aa7d1ee8b1a363f96',\n",
              " '2845b40fa97646b28895428406c15f27',\n",
              " '0709d6ce8da943b28052ebe490341aaa',\n",
              " 'c4fb122667cd45a5b84166d573c212c6',\n",
              " 'babd71ba3693409fa3850aecae93ad39',\n",
              " 'df52b2926ea24c3ba2faf17a2ac1ff0f',\n",
              " 'c375350e241e4d80b0437c555b8021d5',\n",
              " 'e0b834e956914a3aa0fd23ba54e45ebb',\n",
              " '97144a4b41e84793a5becb6fc9deaeaa',\n",
              " '335d14703e3945f2a6d2024ca1ba550f',\n",
              " '608ab67b18ef4420ae9e00a1dc321a80',\n",
              " '54dfb4d9bfce4ac4949a4e47a209ed5d',\n",
              " '82280aa4e4a649b698701c0fc5f4f5a2',\n",
              " '176247af76a34bdd9e439443d9c8eeb5',\n",
              " 'ec7397ed76794174aa6c2b8ee76c6406',\n",
              " '8efe8f43423c42c992c26c6e7d80f470',\n",
              " 'a56d68713f044ff6a26143ad6087eae1',\n",
              " 'f20c6b467a924c0dbefca8e5ac217e0d',\n",
              " '191c87c7c28a48a0938e0564323fe124',\n",
              " 'bf1ccdd6d55142f8a31316777a7440ff',\n",
              " '9caa376a9af24b92b0458e7a58eca1e4',\n",
              " '85e1cb6dba4c40af8f5008e2a7feae84',\n",
              " '2f82b7b25b7d457ca7e6a9df60294fdf',\n",
              " 'fd9212c0097b4a369f3aa4149ff38a9a',\n",
              " 'b580c640515e4a8a95fea3f3f1a0cf47',\n",
              " 'bd8c378a6d95476eb7cc213fdf5f5dc2',\n",
              " '03f02f02079c40058a48fb1dab17b3d7',\n",
              " 'b9a8ffbca81a4c659605867d60ee935e',\n",
              " '5baa171e87c54b91858448b1be98e6db',\n",
              " 'debf77ae6473404ab6dc0cd6e06e740b',\n",
              " '9f00a361ad1b469594cd520a85269a97',\n",
              " '4426a480e7cd4fbba023868f51ee6dd1',\n",
              " '4be2b626fcfc4d94923aaef4088887bc',\n",
              " '60960d41f1b7444299f6d9026bcef095',\n",
              " 'f9efb5b3c8d347b08ca46430c2220f12',\n",
              " '85748f17b426456c836d28af5f5cf613',\n",
              " 'd5833c894b4041e8ba290dadafbc1d28',\n",
              " 'ef64921f55b24bd3aa89f9bf96919c40',\n",
              " 'cf21da6190d34303b9ae3ee2ea43e4a5',\n",
              " '1791baecc77844b88b0d3c252126d6c1',\n",
              " 'aa9d9c44819845baa59184312bb08bdf',\n",
              " '80f775b7b5864da8ae34b5a597eee133',\n",
              " '8aadbc8c47774e3694704d97b9339252',\n",
              " 'e996a57bda504ceeabac22277f7e62f8',\n",
              " '3bbd70c5994e47fd9b0f8eeb2dcc13bf',\n",
              " '3bab6147862345a6a62a32d59234ec22',\n",
              " 'ed8b5d5f82f24aa48d733594282bf470']"
            ]
          },
          "metadata": {},
          "execution_count": 28
        }
      ]
    },
    {
      "cell_type": "code",
      "source": [],
      "metadata": {
        "id": "bYKS4QWUZ0BR"
      },
      "execution_count": null,
      "outputs": []
    }
  ]
}